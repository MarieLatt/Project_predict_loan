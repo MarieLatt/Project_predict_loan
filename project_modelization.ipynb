{
 "cells": [
  {
   "cell_type": "code",
   "execution_count": 2,
   "metadata": {},
   "outputs": [],
   "source": [
    "import pandas as pd\n",
    "import numpy as np\n",
    "\n",
    "import matplotlib.pyplot as plt\n",
    "import seaborn as sns\n",
    "%matplotlib inline"
   ]
  },
  {
   "cell_type": "code",
   "execution_count": 3,
   "metadata": {},
   "outputs": [],
   "source": [
    "from tqdm import tqdm"
   ]
  },
  {
   "cell_type": "code",
   "execution_count": 4,
   "metadata": {},
   "outputs": [],
   "source": [
    "from sklearn.model_selection import train_test_split\n",
    "from sklearn.preprocessing import MinMaxScaler\n",
    "\n",
    "from mlxtend.feature_selection import SequentialFeatureSelector as SFS\n",
    "\n",
    "from sklearn.linear_model import LogisticRegression\n",
    "from sklearn.tree import DecisionTreeClassifier\n",
    "from sklearn.ensemble import RandomForestClassifier\n",
    "import xgboost as xgb\n",
    "from sklearn import svm\n",
    "from sklearn.neighbors import KNeighborsClassifier\n",
    "\n",
    "from sklearn.metrics import accuracy_score, confusion_matrix, recall_score, precision_score, f1_score, roc_auc_score, roc_curve, precision_recall_curve"
   ]
  },
  {
   "cell_type": "markdown",
   "metadata": {},
   "source": [
    "First, I load the clean dataset I made in the first notebook"
   ]
  },
  {
   "cell_type": "code",
   "execution_count": 5,
   "metadata": {},
   "outputs": [],
   "source": [
    "df=pd.read_csv('loans_clean_before_dummy.csv')"
   ]
  },
  {
   "cell_type": "markdown",
   "metadata": {},
   "source": [
    "I select a subset with only the state of **California** and the **Real Estate** sector: the same subset as in the article."
   ]
  },
  {
   "cell_type": "code",
   "execution_count": 6,
   "metadata": {},
   "outputs": [],
   "source": [
    "df2=df.loc[(df.NAICS_sector=='real_estate')&(df.State=='CA')].copy()"
   ]
  },
  {
   "cell_type": "code",
   "execution_count": 7,
   "metadata": {},
   "outputs": [],
   "source": [
    "df2.drop(['State','NAICS_sector'], axis=1, inplace=True)"
   ]
  },
  {
   "cell_type": "code",
   "execution_count": 8,
   "metadata": {},
   "outputs": [],
   "source": [
    "df2=pd.get_dummies(df2,columns=['retain_create'])"
   ]
  },
  {
   "cell_type": "code",
   "execution_count": 9,
   "metadata": {},
   "outputs": [
    {
     "data": {
      "text/plain": [
       "(2105, 11)"
      ]
     },
     "execution_count": 9,
     "metadata": {},
     "output_type": "execute_result"
    }
   ],
   "source": [
    "df2.shape"
   ]
  },
  {
   "cell_type": "code",
   "execution_count": 10,
   "metadata": {},
   "outputs": [
    {
     "name": "stdout",
     "output_type": "stream",
     "text": [
      "<class 'pandas.core.frame.DataFrame'>\n",
      "Int64Index: 2105 entries, 539 to 862646\n",
      "Data columns (total 11 columns):\n",
      "GrAppv                            2105 non-null float64\n",
      "Is_RevLineCr                      2105 non-null float64\n",
      "Is_CHGOFF                         2105 non-null float64\n",
      "Is_New                            2105 non-null float64\n",
      "NoEmp_150                         2105 non-null float64\n",
      "Is_RealEstate                     2105 non-null float64\n",
      "SBA_portion                       2105 non-null float64\n",
      "Is_Recession_08                   2105 non-null int64\n",
      "retain_create_create_no_retain    2105 non-null uint8\n",
      "retain_create_no_job              2105 non-null uint8\n",
      "retain_create_retain_job          2105 non-null uint8\n",
      "dtypes: float64(7), int64(1), uint8(3)\n",
      "memory usage: 154.2 KB\n"
     ]
    }
   ],
   "source": [
    "df2.info()"
   ]
  },
  {
   "cell_type": "markdown",
   "metadata": {},
   "source": [
    "### Variable selection using Mutual Information"
   ]
  },
  {
   "cell_type": "markdown",
   "metadata": {},
   "source": [
    "I have already created and selected features in the first notebook. Now I will use Mutual Information between the variables and the target (Is_CHGOFF), to further reduce the number of variables as inputs in the model"
   ]
  },
  {
   "cell_type": "code",
   "execution_count": 11,
   "metadata": {},
   "outputs": [],
   "source": [
    "from sklearn.feature_selection import mutual_info_classif"
   ]
  },
  {
   "cell_type": "code",
   "execution_count": 12,
   "metadata": {},
   "outputs": [],
   "source": [
    "X = df2.drop('Is_CHGOFF',axis=1)\n",
    "y = df2.Is_CHGOFF"
   ]
  },
  {
   "cell_type": "code",
   "execution_count": 13,
   "metadata": {},
   "outputs": [],
   "source": [
    "X_train_val, X_test, y_train_val, y_test = train_test_split(X,y, random_state=42, test_size=0.2, stratify=y)"
   ]
  },
  {
   "cell_type": "code",
   "execution_count": 14,
   "metadata": {},
   "outputs": [],
   "source": [
    "mut_info_results = pd.DataFrame([X_train_val.columns,mutual_info_classif(X_train_val,y_train_val)]).T"
   ]
  },
  {
   "cell_type": "code",
   "execution_count": 15,
   "metadata": {},
   "outputs": [],
   "source": [
    "mut_info_results.sort_values(by=1,ascending =False,inplace=True)"
   ]
  },
  {
   "cell_type": "code",
   "execution_count": 16,
   "metadata": {},
   "outputs": [
    {
     "data": {
      "text/html": [
       "<div>\n",
       "<style scoped>\n",
       "    .dataframe tbody tr th:only-of-type {\n",
       "        vertical-align: middle;\n",
       "    }\n",
       "\n",
       "    .dataframe tbody tr th {\n",
       "        vertical-align: top;\n",
       "    }\n",
       "\n",
       "    .dataframe thead th {\n",
       "        text-align: right;\n",
       "    }\n",
       "</style>\n",
       "<table border=\"1\" class=\"dataframe\">\n",
       "  <thead>\n",
       "    <tr style=\"text-align: right;\">\n",
       "      <th></th>\n",
       "      <th>0</th>\n",
       "      <th>1</th>\n",
       "    </tr>\n",
       "  </thead>\n",
       "  <tbody>\n",
       "    <tr>\n",
       "      <th>0</th>\n",
       "      <td>GrAppv</td>\n",
       "      <td>0.104256</td>\n",
       "    </tr>\n",
       "    <tr>\n",
       "      <th>5</th>\n",
       "      <td>SBA_portion</td>\n",
       "      <td>0.0928985</td>\n",
       "    </tr>\n",
       "    <tr>\n",
       "      <th>4</th>\n",
       "      <td>Is_RealEstate</td>\n",
       "      <td>0.0756425</td>\n",
       "    </tr>\n",
       "    <tr>\n",
       "      <th>1</th>\n",
       "      <td>Is_RevLineCr</td>\n",
       "      <td>0.0372376</td>\n",
       "    </tr>\n",
       "    <tr>\n",
       "      <th>9</th>\n",
       "      <td>retain_create_retain_job</td>\n",
       "      <td>0.0334634</td>\n",
       "    </tr>\n",
       "    <tr>\n",
       "      <th>7</th>\n",
       "      <td>retain_create_create_no_retain</td>\n",
       "      <td>0.0280202</td>\n",
       "    </tr>\n",
       "    <tr>\n",
       "      <th>3</th>\n",
       "      <td>NoEmp_150</td>\n",
       "      <td>0.0218414</td>\n",
       "    </tr>\n",
       "    <tr>\n",
       "      <th>2</th>\n",
       "      <td>Is_New</td>\n",
       "      <td>0</td>\n",
       "    </tr>\n",
       "    <tr>\n",
       "      <th>6</th>\n",
       "      <td>Is_Recession_08</td>\n",
       "      <td>0</td>\n",
       "    </tr>\n",
       "    <tr>\n",
       "      <th>8</th>\n",
       "      <td>retain_create_no_job</td>\n",
       "      <td>0</td>\n",
       "    </tr>\n",
       "  </tbody>\n",
       "</table>\n",
       "</div>"
      ],
      "text/plain": [
       "                                0          1\n",
       "0                          GrAppv   0.104256\n",
       "5                     SBA_portion  0.0928985\n",
       "4                   Is_RealEstate  0.0756425\n",
       "1                    Is_RevLineCr  0.0372376\n",
       "9        retain_create_retain_job  0.0334634\n",
       "7  retain_create_create_no_retain  0.0280202\n",
       "3                       NoEmp_150  0.0218414\n",
       "2                          Is_New          0\n",
       "6                 Is_Recession_08          0\n",
       "8            retain_create_no_job          0"
      ]
     },
     "execution_count": 16,
     "metadata": {},
     "output_type": "execute_result"
    }
   ],
   "source": [
    "mut_info_results"
   ]
  },
  {
   "cell_type": "code",
   "execution_count": 17,
   "metadata": {},
   "outputs": [
    {
     "data": {
      "image/png": "[encoded data removed]",
      "text/plain": [
       "<Figure size 432x288 with 1 Axes>"
      ]
     },
     "metadata": {
      "needs_background": "light"
     },
     "output_type": "display_data"
    }
   ],
   "source": [
    "sns.barplot(x=1, y=0,data = mut_info_results, color='#E91D63')\n",
    "plt.xlabel('Mutual Information')\n",
    "plt.ylabel('Features')\n",
    "plt.title('Features correlation with dependant variable')\n",
    "plt.savefig('images/MI.svg', format='svg')\n",
    "plt.savefig('images/MI.png', format='png')\n",
    "plt.show()"
   ]
  },
  {
   "cell_type": "markdown",
   "metadata": {},
   "source": [
    "We will only keep the top 3 features:\n",
    "- SBA_portion\n",
    "- GrAppv\n",
    "- Is_RealEstate\n",
    "\n",
    "In the article, they keep: \n",
    "- SBA_portion\n",
    "- DisbursementGross (instead of GrAppv, which we saw was mostly the same values, but with missing values) \n",
    "- Is_RealEstate\n",
    "- Is_New (which they eliminate in the final model) \n",
    "- and Is_Recession (which is not defined like mine: their feature indicate whether the end of the loan (beginning + term) is in the Recession period; mine indicates whether the beginning of the loan is in the Recession period (see README and first notebook)"
   ]
  },
  {
   "cell_type": "code",
   "execution_count": 18,
   "metadata": {},
   "outputs": [],
   "source": [
    "var_select = ['GrAppv','SBA_portion','Is_RealEstate']"
   ]
  },
  {
   "cell_type": "code",
   "execution_count": 19,
   "metadata": {},
   "outputs": [],
   "source": [
    "from sklearn.model_selection import RepeatedStratifiedKFold, cross_validate"
   ]
  },
  {
   "cell_type": "code",
   "execution_count": 20,
   "metadata": {},
   "outputs": [],
   "source": [
    "from sklearn.preprocessing import StandardScaler, MinMaxScaler"
   ]
  },
  {
   "cell_type": "code",
   "execution_count": 21,
   "metadata": {},
   "outputs": [],
   "source": [
    "#!pip install --user imbalanced-learn"
   ]
  },
  {
   "cell_type": "code",
   "execution_count": 22,
   "metadata": {},
   "outputs": [
    {
     "name": "stdout",
     "output_type": "stream",
     "text": [
      "0.7.0\n"
     ]
    }
   ],
   "source": [
    "import imblearn\n",
    "print(imblearn.__version__)"
   ]
  },
  {
   "cell_type": "code",
   "execution_count": 23,
   "metadata": {},
   "outputs": [],
   "source": [
    "from imblearn.over_sampling import SMOTE\n",
    "from imblearn.pipeline import Pipeline"
   ]
  },
  {
   "cell_type": "markdown",
   "metadata": {},
   "source": [
    "I will first select an algorithm among a few classical ones.\n",
    "\n",
    "The metric I choose to compare the models is the **ROC-AUC score**:\n",
    "it is the average of recall (which is an important metric in this project, since False Negative cost more than False Positive) and Specificity. This will prevent the model from choosing to classify all loans as Positive (rejecting all loans will not help earn money)"
   ]
  },
  {
   "cell_type": "code",
   "execution_count": 24,
   "metadata": {},
   "outputs": [],
   "source": [
    "ratio = sum(y==0)/sum(y==1)"
   ]
  },
  {
   "cell_type": "code",
   "execution_count": 25,
   "metadata": {},
   "outputs": [
    {
     "data": {
      "text/plain": [
       "2.007142857142857"
      ]
     },
     "execution_count": 25,
     "metadata": {},
     "output_type": "execute_result"
    }
   ],
   "source": [
    "ratio"
   ]
  },
  {
   "cell_type": "code",
   "execution_count": 22,
   "metadata": {},
   "outputs": [],
   "source": [
    "# (same ratio for the whole dataset, the train set and the test set because of the 'stratify=y' param)"
   ]
  },
  {
   "cell_type": "markdown",
   "metadata": {},
   "source": [
    "The data is imbalanced: I will use SMOTE to oversample the positive class (Is_CHGOFF = 1)."
   ]
  },
  {
   "cell_type": "markdown",
   "metadata": {},
   "source": [
    "I will also standardize the features (since some of the algorithms (Logistic Regression, KNN...) require standardization."
   ]
  },
  {
   "cell_type": "code",
   "execution_count": 27,
   "metadata": {},
   "outputs": [],
   "source": [
    "models = [LogisticRegression(random_state=0), \n",
    "          KNeighborsClassifier(), \n",
    "          svm.SVC(kernel='linear', random_state=0),\n",
    "          svm.SVC(kernel='poly', degree = 2, random_state=0),\n",
    "          svm.SVC(kernel='poly', degree = 3, random_state=0),\n",
    "          svm.SVC(kernel='sigmoid', random_state=0),\n",
    "          svm.SVC(kernel='rbf', random_state=0), \n",
    "          DecisionTreeClassifier( random_state=0), \n",
    "          RandomForestClassifier(n_estimators=100, random_state=0),\n",
    "          RandomForestClassifier(n_estimators=300, random_state=0),\n",
    "          xgb.XGBClassifier( random_state=0) ]"
   ]
  },
  {
   "cell_type": "code",
   "execution_count": 28,
   "metadata": {},
   "outputs": [],
   "source": [
    "model_names = ['logReg', \n",
    "               'KNN', \n",
    "               'SVM_lin',\n",
    "               'SVM_poly2',\n",
    "               'SVM_poly3',\n",
    "               'SVM_sigmoid',\n",
    "               'SVM_rbf', \n",
    "               'DT', \n",
    "               'RF_100',\n",
    "               'RF_300',\n",
    "               'xgb' ]"
   ]
  },
  {
   "cell_type": "code",
   "execution_count": 29,
   "metadata": {},
   "outputs": [],
   "source": [
    "cv = RepeatedStratifiedKFold(n_splits=4, n_repeats=3, random_state=1)"
   ]
  },
  {
   "cell_type": "code",
   "execution_count": 30,
   "metadata": {},
   "outputs": [],
   "source": [
    "restart = 0\n",
    "lst = []"
   ]
  },
  {
   "cell_type": "code",
   "execution_count": 33,
   "metadata": {},
   "outputs": [
    {
     "name": "stderr",
     "output_type": "stream",
     "text": [
      "100%|██████████████████████████████████████████████████████████████████████████████████████████████████████████████████████████████████████████████████████| 11/11 [00:08<00:00,  1.18s/it]\n"
     ]
    }
   ],
   "source": [
    "for name, model in tqdm(list(zip(model_names[restart:],models[restart:]))):\n",
    "    steps = [('over',SMOTE()),('s',StandardScaler()), ('m',model)]\n",
    "    pipeline = Pipeline(steps=steps)\n",
    "    m_scores = cross_validate(pipeline, X_train_val[var_select], y_train_val, scoring='roc_auc', cv=cv, n_jobs=-1, error_score='raise')\n",
    "    lst.append([name,\n",
    "                np.mean(m_scores['test_score'])])\n",
    "    np.savez('model_selection', lst = lst)"
   ]
  },
  {
   "cell_type": "code",
   "execution_count": 34,
   "metadata": {},
   "outputs": [],
   "source": [
    "results = pd.DataFrame(lst,columns=['model','roc_auc'])"
   ]
  },
  {
   "cell_type": "code",
   "execution_count": 35,
   "metadata": {},
   "outputs": [
    {
     "data": {
      "text/html": [
       "<div>\n",
       "<style scoped>\n",
       "    .dataframe tbody tr th:only-of-type {\n",
       "        vertical-align: middle;\n",
       "    }\n",
       "\n",
       "    .dataframe tbody tr th {\n",
       "        vertical-align: top;\n",
       "    }\n",
       "\n",
       "    .dataframe thead th {\n",
       "        text-align: right;\n",
       "    }\n",
       "</style>\n",
       "<table border=\"1\" class=\"dataframe\">\n",
       "  <thead>\n",
       "    <tr style=\"text-align: right;\">\n",
       "      <th></th>\n",
       "      <th>model</th>\n",
       "      <th>roc_auc</th>\n",
       "    </tr>\n",
       "  </thead>\n",
       "  <tbody>\n",
       "    <tr>\n",
       "      <th>10</th>\n",
       "      <td>xgb</td>\n",
       "      <td>0.778244</td>\n",
       "    </tr>\n",
       "    <tr>\n",
       "      <th>6</th>\n",
       "      <td>SVM_rbf</td>\n",
       "      <td>0.753444</td>\n",
       "    </tr>\n",
       "    <tr>\n",
       "      <th>9</th>\n",
       "      <td>RF_300</td>\n",
       "      <td>0.750664</td>\n",
       "    </tr>\n",
       "    <tr>\n",
       "      <th>8</th>\n",
       "      <td>RF_100</td>\n",
       "      <td>0.748277</td>\n",
       "    </tr>\n",
       "    <tr>\n",
       "      <th>1</th>\n",
       "      <td>KNN</td>\n",
       "      <td>0.729567</td>\n",
       "    </tr>\n",
       "    <tr>\n",
       "      <th>3</th>\n",
       "      <td>SVM_poly2</td>\n",
       "      <td>0.729315</td>\n",
       "    </tr>\n",
       "    <tr>\n",
       "      <th>4</th>\n",
       "      <td>SVM_poly3</td>\n",
       "      <td>0.728029</td>\n",
       "    </tr>\n",
       "    <tr>\n",
       "      <th>7</th>\n",
       "      <td>DT</td>\n",
       "      <td>0.718447</td>\n",
       "    </tr>\n",
       "    <tr>\n",
       "      <th>0</th>\n",
       "      <td>logReg</td>\n",
       "      <td>0.712364</td>\n",
       "    </tr>\n",
       "    <tr>\n",
       "      <th>2</th>\n",
       "      <td>SVM_lin</td>\n",
       "      <td>0.709138</td>\n",
       "    </tr>\n",
       "    <tr>\n",
       "      <th>5</th>\n",
       "      <td>SVM_sigmoid</td>\n",
       "      <td>0.554423</td>\n",
       "    </tr>\n",
       "  </tbody>\n",
       "</table>\n",
       "</div>"
      ],
      "text/plain": [
       "          model   roc_auc\n",
       "10          xgb  0.778244\n",
       "6       SVM_rbf  0.753444\n",
       "9        RF_300  0.750664\n",
       "8        RF_100  0.748277\n",
       "1           KNN  0.729567\n",
       "3     SVM_poly2  0.729315\n",
       "4     SVM_poly3  0.728029\n",
       "7            DT  0.718447\n",
       "0        logReg  0.712364\n",
       "2       SVM_lin  0.709138\n",
       "5   SVM_sigmoid  0.554423"
      ]
     },
     "execution_count": 35,
     "metadata": {},
     "output_type": "execute_result"
    }
   ],
   "source": [
    "results.sort_values(by=['roc_auc'], ascending=False)"
   ]
  },
  {
   "cell_type": "markdown",
   "metadata": {},
   "source": [
    "XGboost has the best score, I choose this algorithm.\n",
    "Note that Logistic Regression (the algorithm used in the article) gives a much lower roc_auc score. XGboost is known to be one of the algorithms that performs the best on a large variety of projects."
   ]
  },
  {
   "cell_type": "markdown",
   "metadata": {},
   "source": [
    "## Hyperparam tuning for XGBoost Classifier"
   ]
  },
  {
   "cell_type": "code",
   "execution_count": 36,
   "metadata": {},
   "outputs": [],
   "source": [
    "from sklearn.model_selection import RandomizedSearchCV"
   ]
  },
  {
   "cell_type": "markdown",
   "metadata": {},
   "source": [
    "XGBoost is a tree based algorithm, Standardization is not necessary, so I will not use it.\n",
    "\n",
    "I choose to not use SMOTE and instead adress the imbalance issue with the scale_pos_weight parameter of the XGB Classifier."
   ]
  },
  {
   "cell_type": "code",
   "execution_count": 41,
   "metadata": {},
   "outputs": [],
   "source": [
    "model = xgb.XGBClassifier(scale_pos_weight=ratio, random_state=0)"
   ]
  },
  {
   "cell_type": "code",
   "execution_count": 42,
   "metadata": {},
   "outputs": [],
   "source": [
    "from scipy.stats import uniform, randint"
   ]
  },
  {
   "cell_type": "code",
   "execution_count": 43,
   "metadata": {},
   "outputs": [],
   "source": [
    "params={\n",
    "    'booster':['gbtree', 'dart'],\n",
    "    'colsample_bytree': uniform(0.6,0.4),\n",
    "    'gamma': uniform(0,0.5),\n",
    "    'learning_rate': uniform(0.001,0.3),\n",
    "    'max_depth': randint(2,20),\n",
    "    'n_estimators': randint(50,300),\n",
    "    'subsample':uniform(0.5,0.5)\n",
    "}"
   ]
  },
  {
   "cell_type": "code",
   "execution_count": 73,
   "metadata": {},
   "outputs": [
    {
     "name": "stdout",
     "output_type": "stream",
     "text": [
      "Wall time: 15min 28s\n"
     ]
    },
    {
     "data": {
      "text/plain": [
       "RandomizedSearchCV(cv=5,\n",
       "                   estimator=XGBClassifier(scale_pos_weight=2.007142857142857),\n",
       "                   n_iter=300,\n",
       "                   param_distributions={'booster': ['gbtree', 'dart'],\n",
       "                                        'colsample_bytree': <scipy.stats._distn_infrastructure.rv_frozen object at 0x0000028970125D30>,\n",
       "                                        'gamma': <scipy.stats._distn_infrastructure.rv_frozen object at 0x00000289701252B0>,\n",
       "                                        'learning_rate': <scipy.stats._distn_infrastructure.rv_frozen object at 0x000002897011B550>,\n",
       "                                        'max_depth': <scipy.stats._distn_infrastructure.rv_frozen object at 0x000002897011BBA8>,\n",
       "                                        'n_estimators': <scipy.stats._distn_infrastructure.rv_frozen object at 0x000002897011BE80>,\n",
       "                                        'subsample': <scipy.stats._distn_infrastructure.rv_frozen object at 0x000002897011BF28>},\n",
       "                   scoring='roc_auc')"
      ]
     },
     "execution_count": 73,
     "metadata": {},
     "output_type": "execute_result"
    }
   ],
   "source": [
    "%%time\n",
    "rsearch = RandomizedSearchCV(estimator=model, cv=5,\n",
    "                        param_distributions=params,n_iter=300, scoring='roc_auc')\n",
    "rsearch.fit(X_train_val[var_select], y_train_val)"
   ]
  },
  {
   "cell_type": "code",
   "execution_count": 74,
   "metadata": {},
   "outputs": [
    {
     "data": {
      "text/plain": [
       "{'booster': 'gbtree',\n",
       " 'colsample_bytree': 0.7382121128933288,\n",
       " 'gamma': 0.1605554352734253,\n",
       " 'learning_rate': 0.03485734006993313,\n",
       " 'max_depth': 4,\n",
       " 'n_estimators': 119,\n",
       " 'subsample': 0.9755827535312728}"
      ]
     },
     "execution_count": 74,
     "metadata": {},
     "output_type": "execute_result"
    }
   ],
   "source": [
    "rsearch.best_params_"
   ]
  },
  {
   "cell_type": "code",
   "execution_count": 75,
   "metadata": {},
   "outputs": [
    {
     "data": {
      "text/plain": [
       "0.785110827664399"
      ]
     },
     "execution_count": 75,
     "metadata": {},
     "output_type": "execute_result"
    }
   ],
   "source": [
    "rsearch.best_score_"
   ]
  },
  {
   "cell_type": "code",
   "execution_count": 76,
   "metadata": {},
   "outputs": [],
   "source": [
    "y_pred = rsearch.best_estimator_.predict(X_test[var_select])"
   ]
  },
  {
   "cell_type": "code",
   "execution_count": 77,
   "metadata": {},
   "outputs": [
    {
     "data": {
      "text/plain": [
       "0.7292161520190024"
      ]
     },
     "execution_count": 77,
     "metadata": {},
     "output_type": "execute_result"
    }
   ],
   "source": [
    "accuracy_score(y_test,y_pred)"
   ]
  },
  {
   "cell_type": "code",
   "execution_count": 78,
   "metadata": {},
   "outputs": [
    {
     "data": {
      "text/plain": [
       "0.5596330275229358"
      ]
     },
     "execution_count": 78,
     "metadata": {},
     "output_type": "execute_result"
    }
   ],
   "source": [
    "precision_score(y_test,y_pred)"
   ]
  },
  {
   "cell_type": "code",
   "execution_count": 79,
   "metadata": {},
   "outputs": [
    {
     "data": {
      "text/plain": [
       "0.8714285714285714"
      ]
     },
     "execution_count": 79,
     "metadata": {},
     "output_type": "execute_result"
    }
   ],
   "source": [
    "recall_score(y_test,y_pred)"
   ]
  },
  {
   "cell_type": "code",
   "execution_count": 80,
   "metadata": {},
   "outputs": [
    {
     "data": {
      "text/plain": [
       "array([[185,  96],\n",
       "       [ 18, 122]], dtype=int64)"
      ]
     },
     "execution_count": 80,
     "metadata": {},
     "output_type": "execute_result"
    }
   ],
   "source": [
    "confusion_matrix(y_test,y_pred)"
   ]
  },
  {
   "cell_type": "code",
   "execution_count": 81,
   "metadata": {},
   "outputs": [
    {
     "data": {
      "text/plain": [
       "0.7648957803762074"
      ]
     },
     "execution_count": 81,
     "metadata": {},
     "output_type": "execute_result"
    }
   ],
   "source": [
    "roc_auc_score(y_test,y_pred)"
   ]
  },
  {
   "cell_type": "code",
   "execution_count": 82,
   "metadata": {},
   "outputs": [],
   "source": [
    "yhat=rsearch.best_estimator_.predict_proba(X_test[var_select])"
   ]
  },
  {
   "cell_type": "code",
   "execution_count": 83,
   "metadata": {},
   "outputs": [
    {
     "data": {
      "image/png": "[encoded data removed]",
      "text/plain": [
       "<Figure size 432x288 with 1 Axes>"
      ]
     },
     "metadata": {
      "needs_background": "light"
     },
     "output_type": "display_data"
    }
   ],
   "source": [
    "# retrieve just the probabilities for the positive class\n",
    "pos_probs = yhat[:, 1]\n",
    "# plot no skill roc curve\n",
    "plt.plot([0, 1], [0, 1], linestyle='--', label='No Skill')\n",
    "# calculate roc curve for model\n",
    "fpr, tpr, _ = roc_curve(y_test, pos_probs)\n",
    "# plot model roc curve\n",
    "plt.plot(fpr, tpr, marker='.', label='Model')\n",
    "# axis labels\n",
    "plt.xlabel('False Positive Rate')\n",
    "plt.ylabel('True Positive Rate')\n",
    "plt.title('ROC Curve')\n",
    "# show the legend\n",
    "plt.legend()\n",
    "# show the plot\n",
    "plt.savefig('images/ROC.svg', format='svg')\n",
    "plt.savefig('images/ROC.png', format='png')\n",
    "plt.show()"
   ]
  },
  {
   "cell_type": "code",
   "execution_count": 84,
   "metadata": {},
   "outputs": [],
   "source": [
    "def plot_cm(y_true, y_pred, labels, path, figsize=(10,10)):\n",
    "    cm = confusion_matrix(y_true, y_pred, labels=labels)\n",
    "    cm_sum = np.sum(cm, axis=1, keepdims=True)\n",
    "    cm_perc = cm / cm_sum.astype(float) * 100\n",
    "    annot = np.empty_like(cm).astype(str)\n",
    "    nrows, ncols = cm.shape\n",
    "    for i in range(nrows):\n",
    "        for j in range(ncols):\n",
    "            c = cm[i, j]\n",
    "            p = cm_perc[i, j]\n",
    "            if i == j:\n",
    "                s = cm_sum[i]\n",
    "                annot[i, j] = '%.1f%%\\n%d/%d' % (p, c, s)\n",
    "            elif c == 0:\n",
    "                annot[i, j] = ''\n",
    "            else:\n",
    "                annot[i, j] = '%.1f%%\\n%d' % (p, c)\n",
    "    cm_perc = pd.DataFrame(cm_perc, index=labels, columns=labels)\n",
    "    fig, ax = plt.subplots(figsize=figsize)\n",
    "    sns.heatmap(cm_perc,  annot=annot, fmt='', ax=ax, vmax=100)\n",
    "    fig.suptitle('Confusion matrix', fontsize=14)\n",
    "    plt.xlabel('Predicted Label',fontsize=12)\n",
    "    plt.ylabel('True Label',fontsize=12)\n",
    "    plt.savefig(path+'.svg', format='svg')\n",
    "    plt.savefig(path+'.png', format='png')"
   ]
  },
  {
   "cell_type": "code",
   "execution_count": 85,
   "metadata": {},
   "outputs": [
    {
     "data": {
      "image/png": "[encoded data removed]",
      "text/plain": [
       "<Figure size 360x288 with 2 Axes>"
      ]
     },
     "metadata": {
      "needs_background": "light"
     },
     "output_type": "display_data"
    }
   ],
   "source": [
    "\n",
    "plot_cm(y_test, y_pred, [0,1], 'images/conf_mat', figsize=(5,4))"
   ]
  },
  {
   "cell_type": "code",
   "execution_count": null,
   "metadata": {},
   "outputs": [],
   "source": []
  }
 ],
 "metadata": {
  "kernelspec": {
   "display_name": "Python 3",
   "language": "python",
   "name": "python3"
  },
  "language_info": {
   "codemirror_mode": {
    "name": "ipython",
    "version": 3
   },
   "file_extension": ".py",
   "mimetype": "text/x-python",
   "name": "python",
   "nbconvert_exporter": "python",
   "pygments_lexer": "ipython3",
   "version": "3.7.3"
  }
 },
 "nbformat": 4,
 "nbformat_minor": 2
}
